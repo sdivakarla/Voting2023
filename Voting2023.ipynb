{
 "cells": [
  {
   "cell_type": "code",
   "execution_count": 1,
   "metadata": {},
   "outputs": [],
   "source": [
    "import pandas as pd\n",
    "import seaborn as sb\n"
   ]
  },
  {
   "cell_type": "code",
   "execution_count": 2,
   "metadata": {},
   "outputs": [
    {
     "name": "stderr",
     "output_type": "stream",
     "text": [
      "/Users/sarahdivakarla/opt/anaconda3/lib/python3.9/site-packages/IPython/core/interactiveshell.py:3444: DtypeWarning: Columns (13,27,28,30,37,41,43,44,46,52,58,77,79,80,84,90,91,99) have mixed types.Specify dtype option on import or set low_memory=False.\n",
      "  exec(code_obj, self.user_global_ns, self.user_ns)\n"
     ]
    },
    {
     "data": {
      "text/html": [
       "<div>\n",
       "<style scoped>\n",
       "    .dataframe tbody tr th:only-of-type {\n",
       "        vertical-align: middle;\n",
       "    }\n",
       "\n",
       "    .dataframe tbody tr th {\n",
       "        vertical-align: top;\n",
       "    }\n",
       "\n",
       "    .dataframe thead th {\n",
       "        text-align: right;\n",
       "    }\n",
       "</style>\n",
       "<table border=\"1\" class=\"dataframe\">\n",
       "  <thead>\n",
       "    <tr style=\"text-align: right;\">\n",
       "      <th></th>\n",
       "      <th>voter_id_org</th>\n",
       "      <th>STATE_ID</th>\n",
       "      <th>city</th>\n",
       "      <th>ward</th>\n",
       "      <th>pct</th>\n",
       "      <th>name_last</th>\n",
       "      <th>name_first</th>\n",
       "      <th>name_middle</th>\n",
       "      <th>name_suffix</th>\n",
       "      <th>Status</th>\n",
       "      <th>...</th>\n",
       "      <th>S_02_06_2007</th>\n",
       "      <th>S_08_08_2006</th>\n",
       "      <th>P_05_02_2006</th>\n",
       "      <th>S_02_07_2006</th>\n",
       "      <th>scd</th>\n",
       "      <th>CONG</th>\n",
       "      <th>HSE</th>\n",
       "      <th>SEN</th>\n",
       "      <th>JUD</th>\n",
       "      <th>CCD</th>\n",
       "    </tr>\n",
       "  </thead>\n",
       "  <tbody>\n",
       "    <tr>\n",
       "      <th>0</th>\n",
       "      <td>2901989</td>\n",
       "      <td>OH0025272132</td>\n",
       "      <td>NORTH ROYALTON</td>\n",
       "      <td>3</td>\n",
       "      <td>D</td>\n",
       "      <td>PATEL</td>\n",
       "      <td>AKASH</td>\n",
       "      <td>NaN</td>\n",
       "      <td>NaN</td>\n",
       "      <td>I</td>\n",
       "      <td>...</td>\n",
       "      <td>NaN</td>\n",
       "      <td>NaN</td>\n",
       "      <td>NaN</td>\n",
       "      <td>NaN</td>\n",
       "      <td>NROY CSD</td>\n",
       "      <td>CONG 07</td>\n",
       "      <td>HSE 15</td>\n",
       "      <td>SEN 24</td>\n",
       "      <td>PAR MCD</td>\n",
       "      <td>CCD 05</td>\n",
       "    </tr>\n",
       "    <tr>\n",
       "      <th>1</th>\n",
       "      <td>2785603</td>\n",
       "      <td>OH0024201764</td>\n",
       "      <td>PARMA</td>\n",
       "      <td>7</td>\n",
       "      <td>B</td>\n",
       "      <td>NABOZHNYAK</td>\n",
       "      <td>ZINOVIYA</td>\n",
       "      <td>NaN</td>\n",
       "      <td>NaN</td>\n",
       "      <td>I</td>\n",
       "      <td>...</td>\n",
       "      <td>NaN</td>\n",
       "      <td>NaN</td>\n",
       "      <td>NaN</td>\n",
       "      <td>NaN</td>\n",
       "      <td>PRMA CSD</td>\n",
       "      <td>CONG 07</td>\n",
       "      <td>HSE 14</td>\n",
       "      <td>SEN 23</td>\n",
       "      <td>PAR MCD</td>\n",
       "      <td>CCD 04</td>\n",
       "    </tr>\n",
       "    <tr>\n",
       "      <th>2</th>\n",
       "      <td>2842357</td>\n",
       "      <td>OH0024761339</td>\n",
       "      <td>CLEVELAND</td>\n",
       "      <td>11</td>\n",
       "      <td>H</td>\n",
       "      <td>VERES</td>\n",
       "      <td>MARIA</td>\n",
       "      <td>NaN</td>\n",
       "      <td>NaN</td>\n",
       "      <td>A</td>\n",
       "      <td>...</td>\n",
       "      <td>NaN</td>\n",
       "      <td>NaN</td>\n",
       "      <td>NaN</td>\n",
       "      <td>NaN</td>\n",
       "      <td>CLEV CSD</td>\n",
       "      <td>CONG 11</td>\n",
       "      <td>HSE 13</td>\n",
       "      <td>SEN 23</td>\n",
       "      <td>CLE MCD</td>\n",
       "      <td>CCD 03</td>\n",
       "    </tr>\n",
       "    <tr>\n",
       "      <th>3</th>\n",
       "      <td>145808</td>\n",
       "      <td>OH0014521945</td>\n",
       "      <td>BEDFORD HTS</td>\n",
       "      <td>1</td>\n",
       "      <td>B</td>\n",
       "      <td>CURTIS</td>\n",
       "      <td>STEVEN</td>\n",
       "      <td>B</td>\n",
       "      <td>NaN</td>\n",
       "      <td>A</td>\n",
       "      <td>...</td>\n",
       "      <td>NaN</td>\n",
       "      <td>NaN</td>\n",
       "      <td>NaN</td>\n",
       "      <td>NaN</td>\n",
       "      <td>BDFD CSD</td>\n",
       "      <td>CONG 11</td>\n",
       "      <td>HSE 19</td>\n",
       "      <td>SEN 18</td>\n",
       "      <td>BED MCD</td>\n",
       "      <td>CCD 09</td>\n",
       "    </tr>\n",
       "    <tr>\n",
       "      <th>4</th>\n",
       "      <td>2700035</td>\n",
       "      <td>OH0023494222</td>\n",
       "      <td>WESTLAKE</td>\n",
       "      <td>6</td>\n",
       "      <td>B</td>\n",
       "      <td>GIRGIS</td>\n",
       "      <td>MONIQUE</td>\n",
       "      <td>C</td>\n",
       "      <td>NaN</td>\n",
       "      <td>I</td>\n",
       "      <td>...</td>\n",
       "      <td>NaN</td>\n",
       "      <td>NaN</td>\n",
       "      <td>NaN</td>\n",
       "      <td>NaN</td>\n",
       "      <td>WLKE CSD</td>\n",
       "      <td>CONG 07</td>\n",
       "      <td>HSE 16</td>\n",
       "      <td>SEN 24</td>\n",
       "      <td>RRI MCD</td>\n",
       "      <td>CCD 01</td>\n",
       "    </tr>\n",
       "  </tbody>\n",
       "</table>\n",
       "<p>5 rows × 106 columns</p>\n",
       "</div>"
      ],
      "text/plain": [
       "   voter_id_org      STATE_ID            city  ward pct   name_last  \\\n",
       "0       2901989  OH0025272132  NORTH ROYALTON     3   D       PATEL   \n",
       "1       2785603  OH0024201764           PARMA     7   B  NABOZHNYAK   \n",
       "2       2842357  OH0024761339       CLEVELAND    11   H       VERES   \n",
       "3        145808  OH0014521945     BEDFORD HTS     1   B      CURTIS   \n",
       "4       2700035  OH0023494222        WESTLAKE     6   B      GIRGIS   \n",
       "\n",
       "  name_first name_middle name_suffix Status  ... S_02_06_2007 S_08_08_2006  \\\n",
       "0      AKASH         NaN         NaN      I  ...          NaN          NaN   \n",
       "1   ZINOVIYA         NaN         NaN      I  ...          NaN          NaN   \n",
       "2      MARIA         NaN         NaN      A  ...          NaN          NaN   \n",
       "3     STEVEN           B         NaN      A  ...          NaN          NaN   \n",
       "4    MONIQUE           C         NaN      I  ...          NaN          NaN   \n",
       "\n",
       "  P_05_02_2006 S_02_07_2006       scd     CONG     HSE     SEN      JUD  \\\n",
       "0          NaN          NaN  NROY CSD  CONG 07  HSE 15  SEN 24  PAR MCD   \n",
       "1          NaN          NaN  PRMA CSD  CONG 07  HSE 14  SEN 23  PAR MCD   \n",
       "2          NaN          NaN  CLEV CSD  CONG 11  HSE 13  SEN 23  CLE MCD   \n",
       "3          NaN          NaN  BDFD CSD  CONG 11  HSE 19  SEN 18  BED MCD   \n",
       "4          NaN          NaN  WLKE CSD  CONG 07  HSE 16  SEN 24  RRI MCD   \n",
       "\n",
       "      CCD  \n",
       "0  CCD 05  \n",
       "1  CCD 04  \n",
       "2  CCD 03  \n",
       "3  CCD 09  \n",
       "4  CCD 01  \n",
       "\n",
       "[5 rows x 106 columns]"
      ]
     },
     "execution_count": 2,
     "metadata": {},
     "output_type": "execute_result"
    }
   ],
   "source": [
    "Voter2023 = pd.read_csv('rvht.csv')\n",
    "Voter2023.head()"
   ]
  },
  {
   "cell_type": "code",
   "execution_count": 3,
   "metadata": {},
   "outputs": [
    {
     "name": "stdout",
     "output_type": "stream",
     "text": [
      "<class 'pandas.core.frame.DataFrame'>\n",
      "RangeIndex: 866807 entries, 0 to 866806\n",
      "Columns: 106 entries, voter_id_org to CCD\n",
      "dtypes: int64(3), object(103)\n",
      "memory usage: 701.0+ MB\n"
     ]
    }
   ],
   "source": [
    "Voter2023.info()"
   ]
  },
  {
   "cell_type": "code",
   "execution_count": 4,
   "metadata": {},
   "outputs": [],
   "source": [
    "%matplotlib inline\n",
    "import matplotlib.pyplot as plt\n",
    "import numpy as np"
   ]
  },
  {
   "cell_type": "code",
   "execution_count": 5,
   "metadata": {},
   "outputs": [
    {
     "data": {
      "text/html": [
       "<div>\n",
       "<style scoped>\n",
       "    .dataframe tbody tr th:only-of-type {\n",
       "        vertical-align: middle;\n",
       "    }\n",
       "\n",
       "    .dataframe tbody tr th {\n",
       "        vertical-align: top;\n",
       "    }\n",
       "\n",
       "    .dataframe thead th {\n",
       "        text-align: right;\n",
       "    }\n",
       "</style>\n",
       "<table border=\"1\" class=\"dataframe\">\n",
       "  <thead>\n",
       "    <tr style=\"text-align: right;\">\n",
       "      <th></th>\n",
       "      <th>voter_id_org</th>\n",
       "      <th>Registration Date</th>\n",
       "    </tr>\n",
       "  </thead>\n",
       "  <tbody>\n",
       "    <tr>\n",
       "      <th>0</th>\n",
       "      <td>2901989</td>\n",
       "      <td>10/29/2019</td>\n",
       "    </tr>\n",
       "    <tr>\n",
       "      <th>1</th>\n",
       "      <td>2785603</td>\n",
       "      <td>01/24/2017</td>\n",
       "    </tr>\n",
       "    <tr>\n",
       "      <th>2</th>\n",
       "      <td>2842357</td>\n",
       "      <td>09/07/2018</td>\n",
       "    </tr>\n",
       "    <tr>\n",
       "      <th>3</th>\n",
       "      <td>145808</td>\n",
       "      <td>01/01/1901</td>\n",
       "    </tr>\n",
       "    <tr>\n",
       "      <th>4</th>\n",
       "      <td>2700035</td>\n",
       "      <td>02/03/2016</td>\n",
       "    </tr>\n",
       "    <tr>\n",
       "      <th>...</th>\n",
       "      <td>...</td>\n",
       "      <td>...</td>\n",
       "    </tr>\n",
       "    <tr>\n",
       "      <th>866802</th>\n",
       "      <td>74572</td>\n",
       "      <td>01/13/1988</td>\n",
       "    </tr>\n",
       "    <tr>\n",
       "      <th>866803</th>\n",
       "      <td>827236</td>\n",
       "      <td>04/18/1988</td>\n",
       "    </tr>\n",
       "    <tr>\n",
       "      <th>866804</th>\n",
       "      <td>2639654</td>\n",
       "      <td>06/16/2014</td>\n",
       "    </tr>\n",
       "    <tr>\n",
       "      <th>866805</th>\n",
       "      <td>346409</td>\n",
       "      <td>01/31/1984</td>\n",
       "    </tr>\n",
       "    <tr>\n",
       "      <th>866806</th>\n",
       "      <td>519360</td>\n",
       "      <td>01/01/1901</td>\n",
       "    </tr>\n",
       "  </tbody>\n",
       "</table>\n",
       "<p>866807 rows × 2 columns</p>\n",
       "</div>"
      ],
      "text/plain": [
       "        voter_id_org Registration Date\n",
       "0            2901989        10/29/2019\n",
       "1            2785603        01/24/2017\n",
       "2            2842357        09/07/2018\n",
       "3             145808        01/01/1901\n",
       "4            2700035        02/03/2016\n",
       "...              ...               ...\n",
       "866802         74572        01/13/1988\n",
       "866803        827236        04/18/1988\n",
       "866804       2639654        06/16/2014\n",
       "866805        346409        01/31/1984\n",
       "866806        519360        01/01/1901\n",
       "\n",
       "[866807 rows x 2 columns]"
      ]
     },
     "execution_count": 5,
     "metadata": {},
     "output_type": "execute_result"
    }
   ],
   "source": [
    "reg_df = Voter2023[['voter_id_org','Registration Date']]\n",
    "reg_df"
   ]
  },
  {
   "cell_type": "code",
   "execution_count": 7,
   "metadata": {},
   "outputs": [
    {
     "data": {
      "text/plain": [
       "(866807, 76)"
      ]
     },
     "execution_count": 7,
     "metadata": {},
     "output_type": "execute_result"
    }
   ],
   "source": [
    "#Drop the Special Elections and just keep the primary and general Election Voting Data\n",
    "PrimaryGeneral =Voter2023[Voter2023.columns.drop(list(Voter2023.filter(regex='S_|SG_|SP_')))]\n",
    "PrimaryGeneral.shape\n"
   ]
  },
  {
   "cell_type": "code",
   "execution_count": 8,
   "metadata": {},
   "outputs": [
    {
     "data": {
      "text/plain": [
       "<bound method IndexOpsMixin.tolist of Index(['voter_id_org', 'STATE_ID', 'city', 'ward', 'pct', 'name_last',\n",
       "       'name_first', 'name_middle', 'name_suffix', 'Status', 'party',\n",
       "       'Registration Date', 'Last Registration Date', 'house_no', 'pre_dir',\n",
       "       'street', 'apartment', 'zip', 'birth_date', 'Source', 'G_11_08_2022',\n",
       "       'P_08_02_2022', 'P_05_03_2022', 'G_11_02_2021', 'P_09_14_2021',\n",
       "       'P_08_03_2021', 'P_05_04_2021', 'G_11_03_2020', 'P_03_17_2020',\n",
       "       'G_11_05_2019', 'P_09_10_2019', 'P_05_07_2019', 'G_11_06_2018',\n",
       "       'P_05_08_2018', 'G_11_07_2017', 'P_09_12_2017', 'P_05_02_2017',\n",
       "       'G_11_08_2016', 'P_03_15_2016', 'G_11_03_2015', 'P_09_08_2015',\n",
       "       'P_05_05_2015', 'G_11_04_2014', 'P_05_06_2014', 'G_11_05_2013',\n",
       "       'P_10_01_2013', 'P_09_10_2013', 'P_05_07_2013', 'G_11_06_2012',\n",
       "       'P_03_06_2012', 'G_11_08_2011', 'P_09_13_2011', 'P_05_03_2011',\n",
       "       'G_11_02_2010', 'P_09_07_2010', 'P_05_04_2010', 'G_11_03_2009',\n",
       "       'P_09_29_2009', 'P_09_08_2009', 'P_05_05_2009', 'G_11_04_2008',\n",
       "       'P_03_04_2008', 'G_11_06_2007', 'P_10_02_2007', 'P_09_25_2007',\n",
       "       'P_09_18_2007', 'P_09_11_2007', 'P_05_08_2007', 'G_11_07_2006',\n",
       "       'P_05_02_2006', 'scd', 'CONG', 'HSE', 'SEN', 'JUD', 'CCD'],\n",
       "      dtype='object')>"
      ]
     },
     "execution_count": 8,
     "metadata": {},
     "output_type": "execute_result"
    }
   ],
   "source": [
    "#Get Names of Columns \n",
    "PrimaryGeneral.columns.tolist"
   ]
  },
  {
   "cell_type": "code",
   "execution_count": 12,
   "metadata": {},
   "outputs": [
    {
     "data": {
      "text/plain": [
       "(866807, 43)"
      ]
     },
     "execution_count": 12,
     "metadata": {},
     "output_type": "execute_result"
    }
   ],
   "source": [
    "#Drop Primary Elections\n",
    "General=PrimaryGeneral[PrimaryGeneral.columns.drop(list(PrimaryGeneral.filter(regex=\"P_\")))]\n",
    "General.shape"
   ]
  },
  {
   "cell_type": "code",
   "execution_count": 13,
   "metadata": {},
   "outputs": [
    {
     "data": {
      "text/plain": [
       "<bound method IndexOpsMixin.tolist of Index(['voter_id_org', 'STATE_ID', 'city', 'ward', 'pct', 'name_last',\n",
       "       'name_first', 'name_middle', 'name_suffix', 'Status', 'party',\n",
       "       'Registration Date', 'Last Registration Date', 'house_no', 'pre_dir',\n",
       "       'street', 'apartment', 'zip', 'birth_date', 'Source', 'G_11_08_2022',\n",
       "       'G_11_02_2021', 'G_11_03_2020', 'G_11_05_2019', 'G_11_06_2018',\n",
       "       'G_11_07_2017', 'G_11_08_2016', 'G_11_03_2015', 'G_11_04_2014',\n",
       "       'G_11_05_2013', 'G_11_06_2012', 'G_11_08_2011', 'G_11_02_2010',\n",
       "       'G_11_03_2009', 'G_11_04_2008', 'G_11_06_2007', 'G_11_07_2006', 'scd',\n",
       "       'CONG', 'HSE', 'SEN', 'JUD', 'CCD'],\n",
       "      dtype='object')>"
      ]
     },
     "execution_count": 13,
     "metadata": {},
     "output_type": "execute_result"
    }
   ],
   "source": [
    "General.columns.tolist"
   ]
  },
  {
   "cell_type": "code",
   "execution_count": null,
   "metadata": {},
   "outputs": [],
   "source": []
  }
 ],
 "metadata": {
  "kernelspec": {
   "display_name": "mlenv",
   "language": "python",
   "name": "python3"
  },
  "language_info": {
   "codemirror_mode": {
    "name": "ipython",
    "version": 3
   },
   "file_extension": ".py",
   "mimetype": "text/x-python",
   "name": "python",
   "nbconvert_exporter": "python",
   "pygments_lexer": "ipython3",
   "version": "3.7.13 (default, Mar 28 2022, 07:24:34) \n[Clang 12.0.0 ]"
  },
  "orig_nbformat": 4,
  "vscode": {
   "interpreter": {
    "hash": "2730791c81f549291453b24f012ce98cedd015a3f9fd17cdfc79a2a39137fb0e"
   }
  }
 },
 "nbformat": 4,
 "nbformat_minor": 2
}
