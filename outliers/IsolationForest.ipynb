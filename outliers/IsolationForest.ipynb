{
 "cells": [
  {
   "cell_type": "code",
   "execution_count": 1,
   "metadata": {},
   "outputs": [],
   "source": [
    "import pandas as pd\n",
    "df = pd.DataFrame({\n",
    "    'x': [1.0, 1.1, 1.2, 1.3, 1.4, 1.5, 2.0],\n",
    "    'y': [2.1, 2.4, 3.0, 2.6, 2.2, 2.8, 3.7]\n",
    "}, index = ['A', 'B', 'C', 'D', 'E', 'F', 'G'])"
   ]
  }
 ],
 "metadata": {
  "kernelspec": {
   "display_name": "base",
   "language": "python",
   "name": "python3"
  },
  "language_info": {
   "codemirror_mode": {
    "name": "ipython",
    "version": 3
   },
   "file_extension": ".py",
   "mimetype": "text/x-python",
   "name": "python",
   "nbconvert_exporter": "python",
   "pygments_lexer": "ipython3",
   "version": "3.9.7"
  },
  "orig_nbformat": 4,
  "vscode": {
   "interpreter": {
    "hash": "1455b66f2ac3a177adb1f0a801469600c230d623f0f0e4b0edafb31cff2a6365"
   }
  }
 },
 "nbformat": 4,
 "nbformat_minor": 2
}
